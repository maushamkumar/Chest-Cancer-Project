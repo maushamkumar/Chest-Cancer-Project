{
 "cells": [
  {
   "cell_type": "code",
   "execution_count": 1,
   "metadata": {},
   "outputs": [],
   "source": [
    "import os \n"
   ]
  },
  {
   "cell_type": "code",
   "execution_count": 4,
   "metadata": {},
   "outputs": [
    {
     "name": "stdout",
     "output_type": "stream",
     "text": [
      "/Users/sanjaymahto/Chess-Cancer-Classification/Chest-Cancer-Project\n"
     ]
    }
   ],
   "source": [
    "!pwd"
   ]
  },
  {
   "cell_type": "code",
   "execution_count": 3,
   "metadata": {},
   "outputs": [],
   "source": [
    "os.chdir('../')"
   ]
  },
  {
   "cell_type": "code",
   "execution_count": null,
   "metadata": {},
   "outputs": [],
   "source": [
    "export MLFLOW_TRACKING_URI=https://dagshub.com/maushamkumar/Chest-Cancer-Project.mlflow\n",
    "\n",
    "export MLFLOW_TRACKING_USERNAME=Mausham-Kumar\n",
    "\n",
    "export MLFLOW_TRACKING_PASSWORD=d9d8c948482916cbef26519e40e72a2888bacbc0"
   ]
  },
  {
   "cell_type": "code",
   "execution_count": 5,
   "metadata": {},
   "outputs": [],
   "source": [
    "os.environ['MLFLOW_TRACKING_URI']='https://dagshub.com/maushamkumar/Chest-Cancer-Project.mlflow'\n",
    "os.environ['MLFLOW_TRACKING_USERNAME']='Mausham-Kumar'\n",
    "os.environ['MLFLOW_TRACKING_PASSWORD']='d9d8c948482916cbef26519e40e72a2888bacbc0'"
   ]
  },
  {
   "cell_type": "code",
   "execution_count": 5,
   "metadata": {},
   "outputs": [],
   "source": [
    "import tensorflow as tf"
   ]
  },
  {
   "cell_type": "code",
   "execution_count": 6,
   "metadata": {},
   "outputs": [],
   "source": [
    "model = tf.keras.models.load_model('artifacts/training/model.h5')"
   ]
  },
  {
   "cell_type": "code",
   "execution_count": 7,
   "metadata": {},
   "outputs": [],
   "source": [
    "from dataclasses import dataclass\n",
    "from pathlib import Path\n",
    "\n",
    "@dataclass(frozen=True)\n",
    "class EvaluationConfig:\n",
    "    path_of_model: Path\n",
    "    training_data: Path\n",
    "    all_params: dict\n",
    "    mlflow_uri: str\n",
    "    params_image_size: list\n",
    "    params_batch_size: int"
   ]
  },
  {
   "cell_type": "code",
   "execution_count": 8,
   "metadata": {},
   "outputs": [],
   "source": [
    "from src.CNN.constants import *\n",
    "from src.CNN.utils.common import  read_yaml, create_directories, save_json"
   ]
  },
  {
   "cell_type": "code",
   "execution_count": 9,
   "metadata": {},
   "outputs": [],
   "source": [
    "\n",
    "class ConfigurationManager:\n",
    "    def __init__(self, \n",
    "                 config_filepath = CONFIG_FILE_PATH, \n",
    "                 params_filepath = PARAMS_FILE_PATH):\n",
    "        \n",
    "        self.config = read_yaml(config_filepath)\n",
    "        self.params = read_yaml(params_filepath)\n",
    "        create_directories([self.config.artifacts_root])\n",
    "        \n",
    "    def get_evaluation_config(self) -> EvaluationConfig:\n",
    "        eval_config = EvaluationConfig(\n",
    "            path_of_model=\"artifacts/training/model.h5\",\n",
    "            training_data=\"artifacts/data_ingestion/Chest-CT-Scan-data\",\n",
    "            mlflow_uri='https://dagshub.com/maushamkumar/Chest-Cancer-Project.mlflow',\n",
    "            all_params=self.params,\n",
    "            params_image_size=self.params.IMAGE_SIZE,\n",
    "            params_batch_size=self.params.BATCH_SIZE\n",
    "        )\n",
    "        return eval_config\n",
    "        "
   ]
  },
  {
   "cell_type": "code",
   "execution_count": 10,
   "metadata": {},
   "outputs": [],
   "source": [
    "\n",
    "import tensorflow as tf\n",
    "from pathlib import Path\n",
    "import mlflow\n",
    "import mlflow.keras\n",
    "from urllib.parse import urlparse\n",
    "from mlflow.models import infer_signature\n",
    "import tensorflow as tf\n",
    "import mlflow\n",
    "import mlflow.tensorflow        \n",
    "import dagshub\n",
    "import mlflow\n",
    "import os\n"
   ]
  },
  {
   "cell_type": "code",
   "execution_count": 11,
   "metadata": {},
   "outputs": [],
   "source": [
    "class Evaluation:\n",
    "    def __init__(self, config: EvaluationConfig):\n",
    "        self.config = config\n",
    "\n",
    "    \n",
    "    def _valid_generator(self):\n",
    "\n",
    "        datagenerator_kwargs = dict(\n",
    "            rescale = 1./255,\n",
    "            validation_split=0.30\n",
    "        )\n",
    "\n",
    "        dataflow_kwargs = dict(\n",
    "            target_size=self.config.params_image_size[:-1],\n",
    "            batch_size=self.config.params_batch_size,\n",
    "            interpolation=\"bilinear\"\n",
    "        )\n",
    "\n",
    "        valid_datagenerator = tf.keras.preprocessing.image.ImageDataGenerator(\n",
    "            **datagenerator_kwargs\n",
    "        )\n",
    "\n",
    "        self.valid_generator = valid_datagenerator.flow_from_directory(\n",
    "            directory=self.config.training_data,\n",
    "            subset=\"validation\",\n",
    "            shuffle=False,\n",
    "            **dataflow_kwargs\n",
    "        )\n",
    "        \n",
    "    \n",
    "    @staticmethod\n",
    "    def load_model(path: Path) -> tf.keras.Model:\n",
    "        return tf.keras.models.load_model(path)\n",
    "    \n",
    "\n",
    "    def evaluation(self):\n",
    "        self.model = self.load_model(self.config.path_of_model)\n",
    "        self._valid_generator()\n",
    "        self.score = model.evaluate(self.valid_generator)\n",
    "        self.save_score()\n",
    "\n",
    "    def save_score(self):\n",
    "        scores = {\"loss\": self.score[0], \"accuracy\": self.score[1]}\n",
    "        save_json(path=Path(\"scores.json\"), data=scores)\n",
    "        \n",
    "    # def log_into_mlflow(self):\n",
    "    #     mlflow.set_registry_uri(self.config.mlflow_uri)\n",
    "    #     tracking_url_type_store = urlparse(mlflow.get_tracking_uri()).scheme\n",
    "        \n",
    "    #     # Generate a sample input for the signature and example\n",
    "    #     self._valid_generator()  # Ensure valid_generator is created\n",
    "    #     sample_batch = next(iter(self.valid_generator))\n",
    "    #     input_data = sample_batch[0]  # Example inputs\n",
    "    #     predictions = self.model.predict(input_data)  # Example outputs\n",
    "\n",
    "    #     # Infer the signature\n",
    "    #     signature = infer_signature(input_data, predictions)\n",
    "        \n",
    "    #     # Define the input example\n",
    "    #     input_example = input_data[:1]  # Single sample from batch\n",
    "\n",
    "    #     with mlflow.start_run():\n",
    "    #         mlflow.log_params(self.config.all_params)\n",
    "    #         mlflow.log_metrics({\"loss\": self.score[0], \"accuracy\": self.score[1]})\n",
    "\n",
    "    #         if tracking_url_type_store != \"file\":\n",
    "    #             mlflow.keras.log_model(\n",
    "    #                 self.model, \n",
    "    #                 \"model\", \n",
    "    #                 registered_model_name=\"VGG16Model\", \n",
    "    #                 signature=signature,\n",
    "    #                 input_example=input_example\n",
    "    #             )\n",
    "    #         else:\n",
    "    #             mlflow.keras.log_model(\n",
    "    #                 self.model, \n",
    "    #                 \"model\", \n",
    "    #                 signature=signature,\n",
    "    #                 input_example=input_example\n",
    "    #             )\n",
    "\n",
    "    # def log_into_mlflow(self):\n",
    "    #     mlflow.set_registry_uri(self.config.mlflow_uri)\n",
    "    #     tracking_url_type_store = urlparse(mlflow.get_tracking_uri()).scheme\n",
    "        \n",
    "    #     with mlflow.start_run():\n",
    "    #         mlflow.log_params(self.config.all_params)\n",
    "    #         mlflow.log_metrics(\n",
    "    #             {\"loss\": self.score[0], \"accuracy\": self.score[1]}\n",
    "    #         )\n",
    "    #         # Model registry does not work with file store\n",
    "    #         if tracking_url_type_store != \"file\":\n",
    "\n",
    "    #             # Register the model\n",
    "    #             # There are other ways to use the Model Registry, which depends on the use case,\n",
    "    #             # please refer to the doc for more information:\n",
    "    #             # https://mlflow.org/docs/latest/model-registry.html#api-workflow\n",
    "    #             mlflow.keras.log_model(self.model, \"model\", registered_model_name=\"VGG16Model\")\n",
    "    #         else:\n",
    "    #             mlflow.keras.log_model(self.model, \"model\")\n",
    "    \n",
    "#     def log_into_mlflow(self):\n",
    "\n",
    "\n",
    "# # Initialize DagsHub repository\n",
    "#         dagshub.init(repo_owner='maushamkumar', repo_name='Chest-Cancer-Project', mlflow=True)\n",
    "\n",
    "# # Set environment variables (if not already done)\n",
    "# # os.environ['MLFLOW_TRACKING_URI'] = 'https://dagshub.com/maushamkumar/Chest-Cancer-Project.mlflow' \n",
    "\n",
    "#         os.environ['MLFLOW_TRACKING_URI'] = 'https://dagshub.com/maushamkumar/Chest-Cancer-Project.mlflow'\n",
    "#         os.environ['MLFLOW_TRACKING_USERNAME'] = 'Mausham-Kumar'  # Your DagsHub username\n",
    "#         os.environ['MLFLOW_TRACKING_PASSWORD'] = '408280058a024dea4a01aef21d922ac19e15bb2f'  # Access token\n",
    "\n",
    "#         # Verify environment setup\n",
    "#         print(\"MLFLOW_TRACKING_URI:\", os.environ.get('MLFLOW_TRACKING_URI'))\n",
    "#         print(\"MLFLOW_TRACKING_USERNAME:\", os.environ.get('MLFLOW_TRACKING_USERNAME'))\n",
    "#         print(\"MLFLOW_TRACKING_PASSWORD:\", \n",
    "#               os.environ.get('MLFLOW_TRACKING_PASSWORD'))\n",
    "\n",
    "#         mlflow.set_tracking_uri(os.environ['MLFLOW_TRACKING_URI'])\n",
    "#         tracking_url_type_store = urlparse(mlflow.get_tracking_uri()).scheme\n",
    "\n",
    "#         with mlflow.start_run():\n",
    "#             mlflow.log_params(self.config.all_params)\n",
    "#             mlflow.log_metrics({\"loss\":\n",
    "#                 self.score[0], \"accuracy\": self.score[1]})\n",
    "\n",
    "#             if tracking_url_type_store != \"file\":\n",
    "#                 mlflow.keras.log_model(self.model, \"model\", registered_model_name=\"VGG16Model\")\n",
    "#             else:\n",
    "#                 mlflow.keras.log_model(self.model, \"model\")\n",
    "\n",
    "    def log_into_mlflow(self):\n",
    "        # Initialize DagsHub repository\n",
    "        dagshub.init(repo_owner='maushamkumar', repo_name='Chest-Cancer-Project', mlflow=True)\n",
    "\n",
    "        # Set environment variables\n",
    "        os.environ['MLFLOW_TRACKING_URI'] = self.config.mlflow_uri\n",
    "        os.environ['MLFLOW_TRACKING_TOKEN'] = \"840e97a11ba7812e407d7188fc60a602455a3cbb\"\n",
    "    \n",
    "        # os.environ['MLFLOW_TRACKING_USERNAME'] = 'Mausham-Kumar'\n",
    "        # os.environ['MLFLOW_TRACKING_PASSWORD'] = '840e97a11ba7812e407d7188fc60a602455a3cbb'\n",
    "\n",
    "        # Print the environment variables for debugging\n",
    "        print(\"MLFLOW_TRACKING_URI:\", os.environ.get('MLFLOW_TRACKING_URI'))\n",
    "        print(\"MLFLOW_TRACKING_USERNAME:\", os.environ.get('MLFLOW_TRACKING_USERNAME'))\n",
    "        print(\"MLFLOW_TRACKING_PASSWORD:\", os.environ.get('MLFLOW_TRACKING_PASSWORD'))\n",
    "\n",
    "        mlflow.set_tracking_uri(os.environ['MLFLOW_TRACKING_URI'])\n",
    "        tracking_url_type_store = urlparse(mlflow.get_tracking_uri()).scheme\n",
    "\n",
    "        with mlflow.start_run():\n",
    "            mlflow.log_params(self.config.all_params)\n",
    "            mlflow.log_metrics({\"loss\": self.score[0], \"accuracy\": self.score[1]})\n",
    "\n",
    "            # Ensure the model is not None and is a Keras model\n",
    "            if self.model is None or not isinstance(self.model, tf.keras.Model):\n",
    "                print(\"Model is not loaded correctly.\")\n",
    "                return\n",
    "\n",
    "            if tracking_url_type_store != \"file\":\n",
    "                mlflow.keras.log_model(self.model, \"model\", registered_model_name=\"VGG16Model\")\n",
    "            else:\n",
    "                mlflow.keras.log_model(self.model, \"model\")\n"
   ]
  },
  {
   "cell_type": "code",
   "execution_count": 12,
   "metadata": {},
   "outputs": [
    {
     "name": "stdout",
     "output_type": "stream",
     "text": [
      "[2024-10-27 17:40:48,316 :INFO: common: Reading yaml file: config/config.yml loaded successfully]\n",
      "[2024-10-27 17:40:48,327 :INFO: common: Reading yaml file: params.yaml loaded successfully]\n",
      "[2024-10-27 17:40:48,328 :INFO: common: created directory at: artifacts]\n",
      "Found 102 images belonging to 2 classes.\n",
      "7/7 [==============================] - 11s 2s/step - loss: 1.7844 - accuracy: 0.7255\n",
      "[2024-10-27 17:40:59,957 :INFO: common: json file saved at: scores.json]\n",
      "[2024-10-27 17:41:00,536 :INFO: _client: HTTP Request: GET https://dagshub.com/api/v1/user \"HTTP/1.1 401 Unauthorized\"]\n"
     ]
    },
    {
     "data": {
      "text/html": [
       "<pre style=\"white-space:pre;overflow-x:auto;line-height:normal;font-family:Menlo,'DejaVu Sans Mono',consolas,'Courier New',monospace\">                                       <span style=\"font-weight: bold\">❗❗❗ AUTHORIZATION REQUIRED ❗❗❗</span>                                        \n",
       "</pre>\n"
      ],
      "text/plain": [
       "                                       \u001b[1m❗❗❗ AUTHORIZATION REQUIRED ❗❗❗\u001b[0m                                        \n"
      ]
     },
     "metadata": {},
     "output_type": "display_data"
    },
    {
     "name": "stdout",
     "output_type": "stream",
     "text": [
      "\n",
      "\n",
      "Open the following link in your browser to authorize the client:\n",
      "https://dagshub.com/login/oauth/authorize?state=ca82598c-3bf6-40b9-b6e4-405b1b030a9d&client_id=32b60ba385aa7cecf24046d8195a71c07dd345d9657977863b52e7748e0f0f28&middleman_request_id=7e1afdc42c2aaaff3ccf7fa5b760e36a1b4a70961f486be69ecee8eec27a5e97\n",
      "\n",
      "\n"
     ]
    },
    {
     "data": {
      "text/html": [
       "<pre style=\"white-space:pre;overflow-x:auto;line-height:normal;font-family:Menlo,'DejaVu Sans Mono',consolas,'Courier New',monospace\">/Users/sanjaymahto/Chess-Cancer-Classification/venv/lib/python3.8/site-packages/rich/live.py:231: UserWarning: \n",
       "install \"ipywidgets\" for Jupyter support\n",
       "  warnings.warn('install \"ipywidgets\" for Jupyter support')\n",
       "</pre>\n"
      ],
      "text/plain": [
       "/Users/sanjaymahto/Chess-Cancer-Classification/venv/lib/python3.8/site-packages/rich/live.py:231: UserWarning: \n",
       "install \"ipywidgets\" for Jupyter support\n",
       "  warnings.warn('install \"ipywidgets\" for Jupyter support')\n"
      ]
     },
     "metadata": {},
     "output_type": "display_data"
    },
    {
     "name": "stdout",
     "output_type": "stream",
     "text": [
      "[2024-10-27 17:41:09,713 :INFO: _client: HTTP Request: POST https://dagshub.com/login/oauth/middleman \"HTTP/1.1 200 OK\"]\n"
     ]
    },
    {
     "data": {
      "text/html": [
       "<pre style=\"white-space:pre;overflow-x:auto;line-height:normal;font-family:Menlo,'DejaVu Sans Mono',consolas,'Courier New',monospace\"></pre>\n"
      ],
      "text/plain": []
     },
     "metadata": {},
     "output_type": "display_data"
    },
    {
     "name": "stdout",
     "output_type": "stream",
     "text": [
      "[2024-10-27 17:41:10,400 :INFO: _client: HTTP Request: POST https://dagshub.com/login/oauth/access_token \"HTTP/1.1 200 OK\"]\n",
      "[2024-10-27 17:41:11,272 :INFO: _client: HTTP Request: GET https://dagshub.com/api/v1/user \"HTTP/1.1 200 OK\"]\n"
     ]
    },
    {
     "data": {
      "text/html": [
       "<pre style=\"white-space:pre;overflow-x:auto;line-height:normal;font-family:Menlo,'DejaVu Sans Mono',consolas,'Courier New',monospace\">Accessing as maushamkumar\n",
       "</pre>\n"
      ],
      "text/plain": [
       "Accessing as maushamkumar\n"
      ]
     },
     "metadata": {},
     "output_type": "display_data"
    },
    {
     "name": "stdout",
     "output_type": "stream",
     "text": [
      "[2024-10-27 17:41:11,289 :INFO: helpers: Accessing as maushamkumar]\n",
      "[2024-10-27 17:41:12,071 :INFO: _client: HTTP Request: GET https://dagshub.com/api/v1/repos/maushamkumar/Chest-Cancer-Project \"HTTP/1.1 200 OK\"]\n"
     ]
    },
    {
     "data": {
      "text/html": [
       "<pre style=\"white-space:pre;overflow-x:auto;line-height:normal;font-family:Menlo,'DejaVu Sans Mono',consolas,'Courier New',monospace\">Initialized MLflow to track repo <span style=\"color: #008000; text-decoration-color: #008000\">\"maushamkumar/Chest-Cancer-Project\"</span>\n",
       "</pre>\n"
      ],
      "text/plain": [
       "Initialized MLflow to track repo \u001b[32m\"maushamkumar/Chest-Cancer-Project\"\u001b[0m\n"
      ]
     },
     "metadata": {},
     "output_type": "display_data"
    },
    {
     "name": "stdout",
     "output_type": "stream",
     "text": [
      "[2024-10-27 17:41:12,080 :INFO: helpers: Initialized MLflow to track repo \"maushamkumar/Chest-Cancer-Project\"]\n"
     ]
    },
    {
     "data": {
      "text/html": [
       "<pre style=\"white-space:pre;overflow-x:auto;line-height:normal;font-family:Menlo,'DejaVu Sans Mono',consolas,'Courier New',monospace\">Repository maushamkumar/Chest-Cancer-Project initialized!\n",
       "</pre>\n"
      ],
      "text/plain": [
       "Repository maushamkumar/Chest-Cancer-Project initialized!\n"
      ]
     },
     "metadata": {},
     "output_type": "display_data"
    },
    {
     "name": "stdout",
     "output_type": "stream",
     "text": [
      "[2024-10-27 17:41:12,082 :INFO: helpers: Repository maushamkumar/Chest-Cancer-Project initialized!]\n",
      "MLFLOW_TRACKING_URI: https://dagshub.com/maushamkumar/Chest-Cancer-Project.mlflow\n",
      "MLFLOW_TRACKING_USERNAME: 7da04c392c2d1af2257a14b3dd4918ebf83bb9dc\n",
      "MLFLOW_TRACKING_PASSWORD: 7da04c392c2d1af2257a14b3dd4918ebf83bb9dc\n"
     ]
    },
    {
     "name": "stderr",
     "output_type": "stream",
     "text": [
      "2024/10/27 17:41:14 WARNING mlflow.tensorflow: You are saving a TensorFlow Core model or Keras model without a signature. Inference with mlflow.pyfunc.spark_udf() will not work unless the model's pyfunc representation accepts pandas DataFrames as inference inputs.\n"
     ]
    },
    {
     "name": "stdout",
     "output_type": "stream",
     "text": [
      "INFO:tensorflow:Assets written to: /var/folders/wg/8rqwg0nd7995t2tzgq40dsph0000gn/T/tmphbud5_1g/model/data/model/assets\n",
      "[2024-10-27 17:41:15,358 :INFO: builder_impl: Assets written to: /var/folders/wg/8rqwg0nd7995t2tzgq40dsph0000gn/T/tmphbud5_1g/model/data/model/assets]\n"
     ]
    },
    {
     "name": "stderr",
     "output_type": "stream",
     "text": [
      "2024/10/27 17:41:20 WARNING mlflow.models.model: Model logged without a signature and input example. Please set `input_example` parameter when logging the model to auto infer the model signature.\n",
      "Registered model 'VGG16Model' already exists. Creating a new version of this model...\n",
      "2024/10/27 17:41:44 INFO mlflow.store.model_registry.abstract_store: Waiting up to 300 seconds for model version to finish creation. Model name: VGG16Model, version 2\n",
      "Created version '2' of model 'VGG16Model'.\n",
      "2024/10/27 17:41:45 INFO mlflow.tracking._tracking_service.client: 🏃 View run grandiose-cow-987 at: https://dagshub.com/maushamkumar/Chest-Cancer-Project.mlflow/#/experiments/0/runs/2421d1cbd42b4327a1b526592107cada.\n",
      "2024/10/27 17:41:45 INFO mlflow.tracking._tracking_service.client: 🧪 View experiment at: https://dagshub.com/maushamkumar/Chest-Cancer-Project.mlflow/#/experiments/0.\n"
     ]
    }
   ],
   "source": [
    "# try:\n",
    "#     config = ConfigurationManager()\n",
    "#     eval_config = config.get_evaluation_config()\n",
    "#     evaluation = Evaluation(eval_config)\n",
    "#     evaluation.evaluation()\n",
    "#     evaluation.log_into_mlflow()\n",
    "\n",
    "# except Exception as e:\n",
    "#    raise e\n",
    "\n",
    "try:\n",
    "    config = ConfigurationManager()\n",
    "    eval_config = config.get_evaluation_config()\n",
    "    evaluation = Evaluation(eval_config)\n",
    "    evaluation.evaluation()         # Runs the model evaluation\n",
    "    evaluation.log_into_mlflow()    # Logs the results to MLflow\n",
    "except Exception as e:\n",
    "    raise e\n"
   ]
  },
  {
   "cell_type": "code",
   "execution_count": 13,
   "metadata": {},
   "outputs": [
    {
     "name": "stdout",
     "output_type": "stream",
     "text": [
      "https://dagshub.com/maushamkumar/Chest-Cancer-Project.mlflow\n"
     ]
    }
   ],
   "source": [
    "print((os.environ['MLFLOW_TRACKING_URI']))"
   ]
  },
  {
   "cell_type": "code",
   "execution_count": 20,
   "metadata": {},
   "outputs": [
    {
     "name": "stdout",
     "output_type": "stream",
     "text": [
      "remote: 404 page not found\n",
      "fatal: repository 'https://dagshub.com/maushamkumar/Chest-Cancer-Project.mlflow/' not found\n"
     ]
    }
   ],
   "source": [
    "!git ls-remote https://dagshub.com/maushamkumar/Chest-Cancer-Project.mlflow\n"
   ]
  },
  {
   "cell_type": "code",
   "execution_count": 21,
   "metadata": {},
   "outputs": [
    {
     "name": "stdout",
     "output_type": "stream",
     "text": [
      "18515bb6abbebfb6a3d328aca6b273c5cb161fe2\tHEAD\n",
      "18515bb6abbebfb6a3d328aca6b273c5cb161fe2\trefs/heads/main\n"
     ]
    }
   ],
   "source": [
    "!git ls-remote https://github.com/maushamkumar/Chest-Cancer-Project.git"
   ]
  },
  {
   "cell_type": "code",
   "execution_count": 24,
   "metadata": {},
   "outputs": [],
   "source": [
    "import os\n",
    "from urllib.parse import urlparse\n",
    "import mlflow\n",
    "import dagshub\n",
    "\n",
    "class YourClass:\n",
    "    def log_into_mlflow(self):\n",
    "        # Initialize DagsHub repository\n",
    "        dagshub.init(repo_owner='maushamkumar', repo_name='Chest-Cancer-Project', mlflow=True)\n",
    "\n",
    "        # Set environment variables\n",
    "        os.environ['MLFLOW_TRACKING_URI'] = self.config.mlflow_uri\n",
    "        os.environ['MLFLOW_TRACKING_TOKEN'] = \"840e97a11ba7812e407d7188fc60a602455a3cbb\"\n",
    "\n",
    "\n",
    "        # Print the environment variables for debugging\n",
    "        print(\"MLFLOW_TRACKING_URI:\", os.environ.get('MLFLOW_TRACKING_URI'))\n",
    "        print(\"MLFLOW_TRACKING_USERNAME:\", os.environ.get('MLFLOW_TRACKING_USERNAME'))\n",
    "        print(\"MLFLOW_TRACKING_PASSWORD:\", os.environ.get('MLFLOW_TRACKING_PASSWORD'))\n",
    "\n",
    "        # Set MLflow tracking URI\n",
    "        mlflow.set_tracking_uri(os.environ['MLFLOW_TRACKING_URI'])\n",
    "        \n",
    "        tracking_url_type_store = urlparse(mlflow.get_tracking_uri()).scheme\n",
    "        \n",
    "        if tracking_url_type_store == \"http\" or tracking_url_type_store == \"https\":\n",
    "            # If using HTTP(S), set the username and password for authentication\n",
    "            mlflow.set_tracking_uri(f\"http://{os.environ['MLFLOW_TRACKING_USERNAME']}:{os.environ['MLFLOW_TRACKING_PASSWORD']}@{self.config.mlflow_uri}\")"
   ]
  },
  {
   "cell_type": "code",
   "execution_count": 18,
   "metadata": {},
   "outputs": [],
   "source": [
    "mlflow.set_tracking_uri(\"https://dagshub.com/maushamkumar/Chest-Cancer-Project.mlflow\")"
   ]
  },
  {
   "cell_type": "code",
   "execution_count": 13,
   "metadata": {},
   "outputs": [
    {
     "name": "stdout",
     "output_type": "stream",
     "text": [
      "{'message': 'Please authorize in order to access this resource'}\n"
     ]
    }
   ],
   "source": [
    "import requests\n",
    "\n",
    "response = requests.get(\n",
    "    'https://dagshub.com/api/v1/user',\n",
    "    auth=('token', '5fed9dba099f2504c17ba71e8f00ea56c4b5f830')\n",
    ")\n",
    "\n",
    "print(response.json())\n"
   ]
  },
  {
   "cell_type": "code",
   "execution_count": null,
   "metadata": {},
   "outputs": [],
   "source": []
  },
  {
   "cell_type": "code",
   "execution_count": 11,
   "metadata": {},
   "outputs": [
    {
     "ename": "KeyError",
     "evalue": "'MLFLOW_TRACKING_URI'",
     "output_type": "error",
     "traceback": [
      "\u001b[0;31m---------------------------------------------------------------------------\u001b[0m",
      "\u001b[0;31mKeyError\u001b[0m                                  Traceback (most recent call last)",
      "Cell \u001b[0;32mIn[11], line 4\u001b[0m\n\u001b[1;32m      1\u001b[0m \u001b[38;5;28;01mimport\u001b[39;00m \u001b[38;5;21;01mos\u001b[39;00m\n\u001b[1;32m      3\u001b[0m \u001b[38;5;66;03m# No need to set the environment variables again, as they're already set in the terminal\u001b[39;00m\n\u001b[0;32m----> 4\u001b[0m \u001b[38;5;28mprint\u001b[39m(\u001b[43mos\u001b[49m\u001b[38;5;241;43m.\u001b[39;49m\u001b[43menviron\u001b[49m\u001b[43m[\u001b[49m\u001b[38;5;124;43m'\u001b[39;49m\u001b[38;5;124;43mMLFLOW_TRACKING_URI\u001b[39;49m\u001b[38;5;124;43m'\u001b[39;49m\u001b[43m]\u001b[49m)  \u001b[38;5;66;03m# Just to verify it's accessible\u001b[39;00m\n",
      "File \u001b[0;32m~/Chess-Cancer-Classification/venv/lib/python3.8/os.py:675\u001b[0m, in \u001b[0;36m_Environ.__getitem__\u001b[0;34m(self, key)\u001b[0m\n\u001b[1;32m    672\u001b[0m     value \u001b[38;5;241m=\u001b[39m \u001b[38;5;28mself\u001b[39m\u001b[38;5;241m.\u001b[39m_data[\u001b[38;5;28mself\u001b[39m\u001b[38;5;241m.\u001b[39mencodekey(key)]\n\u001b[1;32m    673\u001b[0m \u001b[38;5;28;01mexcept\u001b[39;00m \u001b[38;5;167;01mKeyError\u001b[39;00m:\n\u001b[1;32m    674\u001b[0m     \u001b[38;5;66;03m# raise KeyError with the original key value\u001b[39;00m\n\u001b[0;32m--> 675\u001b[0m     \u001b[38;5;28;01mraise\u001b[39;00m \u001b[38;5;167;01mKeyError\u001b[39;00m(key) \u001b[38;5;28;01mfrom\u001b[39;00m \u001b[38;5;28;01mNone\u001b[39;00m\n\u001b[1;32m    676\u001b[0m \u001b[38;5;28;01mreturn\u001b[39;00m \u001b[38;5;28mself\u001b[39m\u001b[38;5;241m.\u001b[39mdecodevalue(value)\n",
      "\u001b[0;31mKeyError\u001b[0m: 'MLFLOW_TRACKING_URI'"
     ]
    }
   ],
   "source": [
    "import os\n",
    "\n",
    "# No need to set the environment variables again, as they're already set in the terminal\n",
    "print(os.environ['MLFLOW_TRACKING_URI'])  # Just to verify it's accessible\n"
   ]
  },
  {
   "cell_type": "code",
   "execution_count": 12,
   "metadata": {},
   "outputs": [
    {
     "name": "stdout",
     "output_type": "stream",
     "text": [
      "MLFLOW_TRACKING_URI: https://dagshub.com/maushamkumar/Chest-Cancer-Project.mlflow\n",
      "MLFLOW_TRACKING_USERNAME: Mausham-Kumar\n",
      "MLFLOW_TRACKING_PASSWORD: d9d8c948482916cbef26519e40e72a2888bacbc0\n"
     ]
    }
   ],
   "source": [
    "import os\n",
    "\n",
    "# Setting environment variables (if needed)\n",
    "os.environ['MLFLOW_TRACKING_URI'] = 'https://dagshub.com/maushamkumar/Chest-Cancer-Project.mlflow'\n",
    "os.environ['MLFLOW_TRACKING_USERNAME'] = 'Mausham-Kumar'\n",
    "os.environ['MLFLOW_TRACKING_PASSWORD'] = 'd9d8c948482916cbef26519e40e72a2888bacbc0'\n",
    "\n",
    "# Verify environment variables\n",
    "try:\n",
    "    print(\"MLFLOW_TRACKING_URI:\", os.environ['MLFLOW_TRACKING_URI'])\n",
    "    print(\"MLFLOW_TRACKING_USERNAME:\", os.environ['MLFLOW_TRACKING_USERNAME'])\n",
    "    print(\"MLFLOW_TRACKING_PASSWORD:\", os.environ['MLFLOW_TRACKING_PASSWORD'])\n",
    "except KeyError as e:\n",
    "    print(f\"KeyError: {e} - Environment variable not set.\")\n"
   ]
  },
  {
   "cell_type": "code",
   "execution_count": null,
   "metadata": {},
   "outputs": [],
   "source": [
    "with mlflow.start_run():\n",
    "    mlflow.log_params(self.config.all_params)\n",
    "    mlflow.log_metrics({\"loss\": self.score[0], \"accuracy\": self.score[1]})\n",
    "    mlflow.keras.log_model(self.model, \"model\", registered_model_name=\"VGG16Model\")\n"
   ]
  },
  {
   "cell_type": "code",
   "execution_count": 13,
   "metadata": {},
   "outputs": [
    {
     "name": "stdout",
     "output_type": "stream",
     "text": [
      "[2024-10-27 13:47:02,182 :INFO: _client: HTTP Request: GET https://dagshub.com/api/v1/user \"HTTP/1.1 200 OK\"]\n"
     ]
    },
    {
     "data": {
      "text/html": [
       "<pre style=\"white-space:pre;overflow-x:auto;line-height:normal;font-family:Menlo,'DejaVu Sans Mono',consolas,'Courier New',monospace\">Accessing as maushamkumar\n",
       "</pre>\n"
      ],
      "text/plain": [
       "Accessing as maushamkumar\n"
      ]
     },
     "metadata": {},
     "output_type": "display_data"
    },
    {
     "name": "stdout",
     "output_type": "stream",
     "text": [
      "[2024-10-27 13:47:02,188 :INFO: helpers: Accessing as maushamkumar]\n",
      "[2024-10-27 13:47:02,756 :INFO: _client: HTTP Request: GET https://dagshub.com/api/v1/repos/maushamkumar/Chest-Cancer-Project \"HTTP/1.1 200 OK\"]\n"
     ]
    },
    {
     "data": {
      "text/html": [
       "<pre style=\"white-space:pre;overflow-x:auto;line-height:normal;font-family:Menlo,'DejaVu Sans Mono',consolas,'Courier New',monospace\">Initialized MLflow to track repo <span style=\"color: #008000; text-decoration-color: #008000\">\"maushamkumar/Chest-Cancer-Project\"</span>\n",
       "</pre>\n"
      ],
      "text/plain": [
       "Initialized MLflow to track repo \u001b[32m\"maushamkumar/Chest-Cancer-Project\"\u001b[0m\n"
      ]
     },
     "metadata": {},
     "output_type": "display_data"
    },
    {
     "name": "stdout",
     "output_type": "stream",
     "text": [
      "[2024-10-27 13:47:02,783 :INFO: helpers: Initialized MLflow to track repo \"maushamkumar/Chest-Cancer-Project\"]\n"
     ]
    },
    {
     "data": {
      "text/html": [
       "<pre style=\"white-space:pre;overflow-x:auto;line-height:normal;font-family:Menlo,'DejaVu Sans Mono',consolas,'Courier New',monospace\">Repository maushamkumar/Chest-Cancer-Project initialized!\n",
       "</pre>\n"
      ],
      "text/plain": [
       "Repository maushamkumar/Chest-Cancer-Project initialized!\n"
      ]
     },
     "metadata": {},
     "output_type": "display_data"
    },
    {
     "name": "stdout",
     "output_type": "stream",
     "text": [
      "[2024-10-27 13:47:02,784 :INFO: helpers: Repository maushamkumar/Chest-Cancer-Project initialized!]\n"
     ]
    }
   ],
   "source": [
    "import dagshub\n",
    "import mlflow\n",
    "import os\n",
    "\n",
    "# Initialize DagsHub repository\n",
    "dagshub.init(repo_owner='maushamkumar', repo_name='Chest-Cancer-Project', mlflow=True)\n",
    "\n",
    "# Set environment variables (if not already done)\n",
    "os.environ['MLFLOW_TRACKING_URI'] = 'https://dagshub.com/maushamkumar/Chest-Cancer-Project.mlflow'\n",
    "os.environ['MLFLOW_TRACKING_USERNAME'] = 'Mausham-Kumar'  # Your DagsHub username\n",
    "os.environ['MLFLOW_TRACKING_PASSWORD'] = 'd9d8c948482916cbef26519e40e72a2888bacbc0'  # Your access token\n",
    "\n",
    "# # Start an MLflow run\n",
    "# with mlflow.start_run():\n",
    "#     mlflow.log_param('parameter_name', 'value')  # Replace with your parameter\n",
    "#     mlflow.log_metric('metric_name', 1)  # Replace with your metric\n",
    "\n",
    "# print(\"Logging completed.\")\n"
   ]
  },
  {
   "cell_type": "code",
   "execution_count": 21,
   "metadata": {},
   "outputs": [],
   "source": [
    "import os\n",
    "\n",
    "os.environ['MLFLOW_TRACKING_URI'] = 'https://dagshub.com/maushamkumar/Chest-Cancer-Project.mlflow'\n",
    "os.environ['MLFLOW_TRACKING_USERNAME'] = 'Mausham-Kumar'  # Your DagsHub username\n",
    "os.environ['MLFLOW_TRACKING_PASSWORD'] = 'd9d8c948482916cbef26519e40e72a2888bacbc0'  # Your access token\n"
   ]
  },
  {
   "cell_type": "code",
   "execution_count": 23,
   "metadata": {},
   "outputs": [
    {
     "name": "stdout",
     "output_type": "stream",
     "text": [
      "[2024-10-27 15:06:33,642 :INFO: _client: HTTP Request: GET https://dagshub.com/api/v1/repos/maushamkumar/Chest-Cancer-Project \"HTTP/1.1 200 OK\"]\n"
     ]
    },
    {
     "data": {
      "text/html": [
       "<pre style=\"white-space:pre;overflow-x:auto;line-height:normal;font-family:Menlo,'DejaVu Sans Mono',consolas,'Courier New',monospace\">Initialized MLflow to track repo <span style=\"color: #008000; text-decoration-color: #008000\">\"maushamkumar/Chest-Cancer-Project\"</span>\n",
       "</pre>\n"
      ],
      "text/plain": [
       "Initialized MLflow to track repo \u001b[32m\"maushamkumar/Chest-Cancer-Project\"\u001b[0m\n"
      ]
     },
     "metadata": {},
     "output_type": "display_data"
    },
    {
     "name": "stdout",
     "output_type": "stream",
     "text": [
      "[2024-10-27 15:06:33,652 :INFO: helpers: Initialized MLflow to track repo \"maushamkumar/Chest-Cancer-Project\"]\n"
     ]
    },
    {
     "data": {
      "text/html": [
       "<pre style=\"white-space:pre;overflow-x:auto;line-height:normal;font-family:Menlo,'DejaVu Sans Mono',consolas,'Courier New',monospace\">Repository maushamkumar/Chest-Cancer-Project initialized!\n",
       "</pre>\n"
      ],
      "text/plain": [
       "Repository maushamkumar/Chest-Cancer-Project initialized!\n"
      ]
     },
     "metadata": {},
     "output_type": "display_data"
    },
    {
     "name": "stdout",
     "output_type": "stream",
     "text": [
      "[2024-10-27 15:06:33,654 :INFO: helpers: Repository maushamkumar/Chest-Cancer-Project initialized!]\n"
     ]
    },
    {
     "name": "stderr",
     "output_type": "stream",
     "text": [
      "2024/10/27 15:06:35 INFO mlflow.tracking._tracking_service.client: 🏃 View run flawless-wren-363 at: https://dagshub.com/maushamkumar/Chest-Cancer-Project.mlflow/#/experiments/0/runs/c12ce3af701e4f16bf3b5a293c0e26b0.\n",
      "2024/10/27 15:06:35 INFO mlflow.tracking._tracking_service.client: 🧪 View experiment at: https://dagshub.com/maushamkumar/Chest-Cancer-Project.mlflow/#/experiments/0.\n"
     ]
    },
    {
     "name": "stdout",
     "output_type": "stream",
     "text": [
      "Logging completed.\n"
     ]
    }
   ],
   "source": [
    "import dagshub\n",
    "import mlflow\n",
    "\n",
    "# Initialize DagsHub with MLflow\n",
    "dagshub.init(repo_owner='maushamkumar', repo_name='Chest-Cancer-Project', mlflow=True)\n",
    "\n",
    "# Start MLflow run\n",
    "with mlflow.start_run():\n",
    "    mlflow.log_param('parameter_name', 'value')  # Replace with your parameter\n",
    "    mlflow.log_metric('metric_name', 1)  # Replace with your metric\n",
    "\n",
    "print(\"Logging completed.\")\n"
   ]
  },
  {
   "cell_type": "code",
   "execution_count": null,
   "metadata": {},
   "outputs": [],
   "source": [
    "#Kuchbhi@143\n",
    "#DagsHub password : Kuchbhi@143"
   ]
  },
  {
   "cell_type": "code",
   "execution_count": 16,
   "metadata": {},
   "outputs": [
    {
     "ename": "EnsureError",
     "evalue": "Argument path_to_yaml of type <class 'str'> to <function read_yaml at 0x30f83d160> does not match annotation type <class 'pathlib.Path'>",
     "output_type": "error",
     "traceback": [
      "\u001b[0;31m---------------------------------------------------------------------------\u001b[0m",
      "\u001b[0;31mEnsureError\u001b[0m                               Traceback (most recent call last)",
      "Cell \u001b[0;32mIn[16], line 96\u001b[0m\n\u001b[1;32m     94\u001b[0m     \u001b[38;5;28mprint\u001b[39m(\u001b[38;5;124m\"\u001b[39m\u001b[38;5;124mEvaluation and logging completed successfully.\u001b[39m\u001b[38;5;124m\"\u001b[39m)\n\u001b[1;32m     95\u001b[0m \u001b[38;5;28;01mexcept\u001b[39;00m \u001b[38;5;167;01mException\u001b[39;00m \u001b[38;5;28;01mas\u001b[39;00m e:\n\u001b[0;32m---> 96\u001b[0m     \u001b[38;5;28;01mraise\u001b[39;00m e\n",
      "Cell \u001b[0;32mIn[16], line 89\u001b[0m\n\u001b[1;32m     87\u001b[0m \u001b[38;5;66;03m# Step 4: Main execution script\u001b[39;00m\n\u001b[1;32m     88\u001b[0m \u001b[38;5;28;01mtry\u001b[39;00m:\n\u001b[0;32m---> 89\u001b[0m     config_manager \u001b[38;5;241m=\u001b[39m \u001b[43mConfigurationManager\u001b[49m\u001b[43m(\u001b[49m\u001b[43m)\u001b[49m\n\u001b[1;32m     90\u001b[0m     eval_config \u001b[38;5;241m=\u001b[39m config_manager\u001b[38;5;241m.\u001b[39mget_evaluation_config()\n\u001b[1;32m     91\u001b[0m     evaluation \u001b[38;5;241m=\u001b[39m Evaluation(eval_config)\n",
      "Cell \u001b[0;32mIn[16], line 22\u001b[0m, in \u001b[0;36mConfigurationManager.__init__\u001b[0;34m(self, config_filepath, params_filepath)\u001b[0m\n\u001b[1;32m     21\u001b[0m \u001b[38;5;28;01mdef\u001b[39;00m \u001b[38;5;21m__init__\u001b[39m(\u001b[38;5;28mself\u001b[39m, config_filepath\u001b[38;5;241m=\u001b[39m\u001b[38;5;124m'\u001b[39m\u001b[38;5;124mconfig/config.yml\u001b[39m\u001b[38;5;124m'\u001b[39m, params_filepath\u001b[38;5;241m=\u001b[39m\u001b[38;5;124m'\u001b[39m\u001b[38;5;124mparams.yaml\u001b[39m\u001b[38;5;124m'\u001b[39m):\n\u001b[0;32m---> 22\u001b[0m     \u001b[38;5;28mself\u001b[39m\u001b[38;5;241m.\u001b[39mconfig \u001b[38;5;241m=\u001b[39m \u001b[43mread_yaml\u001b[49m\u001b[43m(\u001b[49m\u001b[43mconfig_filepath\u001b[49m\u001b[43m)\u001b[49m  \u001b[38;5;66;03m# replace with actual config read function\u001b[39;00m\n\u001b[1;32m     23\u001b[0m     \u001b[38;5;28mself\u001b[39m\u001b[38;5;241m.\u001b[39mparams \u001b[38;5;241m=\u001b[39m read_yaml(params_filepath)\n",
      "File \u001b[0;32m~/Chess-Cancer-Classification/venv/lib/python3.8/site-packages/ensure/main.py:845\u001b[0m, in \u001b[0;36mWrappedFunctionReturn.__call__\u001b[0;34m(self, *args, **kwargs)\u001b[0m\n\u001b[1;32m    840\u001b[0m     \u001b[38;5;28;01mif\u001b[39;00m \u001b[38;5;129;01mnot\u001b[39;00m \u001b[38;5;28misinstance\u001b[39m(value, templ):\n\u001b[1;32m    841\u001b[0m         msg \u001b[38;5;241m=\u001b[39m (\n\u001b[1;32m    842\u001b[0m             \u001b[38;5;124m\"\u001b[39m\u001b[38;5;124mArgument \u001b[39m\u001b[38;5;132;01m{arg}\u001b[39;00m\u001b[38;5;124m of type \u001b[39m\u001b[38;5;132;01m{valt}\u001b[39;00m\u001b[38;5;124m to \u001b[39m\u001b[38;5;132;01m{f}\u001b[39;00m\u001b[38;5;124m \u001b[39m\u001b[38;5;124m\"\u001b[39m\n\u001b[1;32m    843\u001b[0m             \u001b[38;5;124m\"\u001b[39m\u001b[38;5;124mdoes not match annotation type \u001b[39m\u001b[38;5;132;01m{t}\u001b[39;00m\u001b[38;5;124m\"\u001b[39m\n\u001b[1;32m    844\u001b[0m         )\n\u001b[0;32m--> 845\u001b[0m         \u001b[38;5;28;01mraise\u001b[39;00m EnsureError(msg\u001b[38;5;241m.\u001b[39mformat(\n\u001b[1;32m    846\u001b[0m             arg\u001b[38;5;241m=\u001b[39marg, f\u001b[38;5;241m=\u001b[39m\u001b[38;5;28mself\u001b[39m\u001b[38;5;241m.\u001b[39mf, t\u001b[38;5;241m=\u001b[39mtempl, valt\u001b[38;5;241m=\u001b[39m\u001b[38;5;28mtype\u001b[39m(value)\n\u001b[1;32m    847\u001b[0m         ))\n\u001b[1;32m    849\u001b[0m return_val \u001b[38;5;241m=\u001b[39m \u001b[38;5;28mself\u001b[39m\u001b[38;5;241m.\u001b[39mf(\u001b[38;5;241m*\u001b[39margs, \u001b[38;5;241m*\u001b[39m\u001b[38;5;241m*\u001b[39mkwargs)\n\u001b[1;32m    850\u001b[0m \u001b[38;5;28;01mif\u001b[39;00m \u001b[38;5;129;01mnot\u001b[39;00m \u001b[38;5;28misinstance\u001b[39m(return_val, \u001b[38;5;28mself\u001b[39m\u001b[38;5;241m.\u001b[39mreturn_templ):\n",
      "\u001b[0;31mEnsureError\u001b[0m: Argument path_to_yaml of type <class 'str'> to <function read_yaml at 0x30f83d160> does not match annotation type <class 'pathlib.Path'>"
     ]
    }
   ],
   "source": [
    "import os\n",
    "import tensorflow as tf\n",
    "from pathlib import Path\n",
    "import mlflow\n",
    "import mlflow.keras\n",
    "from dataclasses import dataclass\n",
    "from urllib.parse import urlparse\n",
    "\n",
    "# Step 1: Define the Evaluation Configuration\n",
    "@dataclass(frozen=True)\n",
    "class EvaluationConfig:\n",
    "    path_of_model: Path\n",
    "    training_data: Path\n",
    "    all_params: dict\n",
    "    mlflow_uri: str\n",
    "    params_image_size: list\n",
    "    params_batch_size: int\n",
    "\n",
    "# Step 2: Configuration Manager class to read config files and parameters\n",
    "class ConfigurationManager:\n",
    "    def __init__(self, config_filepath='config/config.yml', params_filepath='params.yaml'):\n",
    "        self.config = read_yaml(config_filepath)  # replace with actual config read function\n",
    "        self.params = read_yaml(params_filepath)  # replace with actual params read function\n",
    "\n",
    "    def get_evaluation_config(self) -> EvaluationConfig:\n",
    "        eval_config = EvaluationConfig(\n",
    "            path_of_model=Path(\"artifacts/training/model.h5\"),\n",
    "            training_data=Path(\"artifacts/data_ingestion/Chest-CT-Scan-data\"),\n",
    "            mlflow_uri=\"https://dagshub.com/maushamkumar/Chest-Cancer-Project.mlflow\",\n",
    "            all_params=self.params,\n",
    "            params_image_size=self.params['IMAGE_SIZE'],\n",
    "            params_batch_size=self.params['BATCH_SIZE']\n",
    "        )\n",
    "        return eval_config\n",
    "\n",
    "# Step 3: Evaluation class for handling model evaluation and logging\n",
    "class Evaluation:\n",
    "    def __init__(self, config: EvaluationConfig):\n",
    "        self.config = config\n",
    "\n",
    "    def _valid_generator(self):\n",
    "        data_gen_args = dict(rescale=1./255, validation_split=0.30)\n",
    "        data_flow_args = dict(\n",
    "            target_size=self.config.params_image_size[:-1],\n",
    "            batch_size=self.config.params_batch_size,\n",
    "            interpolation=\"bilinear\"\n",
    "        )\n",
    "        valid_data_gen = tf.keras.preprocessing.image.ImageDataGenerator(**data_gen_args)\n",
    "        self.valid_generator = valid_data_gen.flow_from_directory(\n",
    "            directory=self.config.training_data,\n",
    "            subset=\"validation\",\n",
    "            shuffle=False,\n",
    "            **data_flow_args\n",
    "        )\n",
    "\n",
    "    @staticmethod\n",
    "    def load_model(path: Path) -> tf.keras.Model:\n",
    "        return tf.keras.models.load_model(path)\n",
    "\n",
    "    def evaluation(self):\n",
    "        self.model = self.load_model(self.config.path_of_model)\n",
    "        self._valid_generator()\n",
    "        self.score = self.model.evaluate(self.valid_generator)\n",
    "        self.save_score()\n",
    "\n",
    "    def save_score(self):\n",
    "        scores = {\"loss\": self.score[0], \"accuracy\": self.score[1]}\n",
    "        save_json(\"scores.json\", scores)  # replace with actual save_json function\n",
    "\n",
    "    def log_into_mlflow(self):\n",
    "        os.environ['MLFLOW_TRACKING_URI'] = self.config.mlflow_uri\n",
    "        os.environ['MLFLOW_TRACKING_USERNAME'] = 'Mausham-Kumar'  # DagsHub username\n",
    "        os.environ['MLFLOW_TRACKING_PASSWORD'] = 'd9d8c948482916cbef26519e40e72a2888bacbc0'  # DagsHub token\n",
    "\n",
    "        mlflow.set_tracking_uri(os.environ['MLFLOW_TRACKING_URI'])\n",
    "        tracking_url_type_store = urlparse(mlflow.get_tracking_uri()).scheme\n",
    "\n",
    "        with mlflow.start_run():\n",
    "            mlflow.log_params(self.config.all_params)\n",
    "            mlflow.log_metrics({\"loss\": self.score[0], \"accuracy\": self.score[1]})\n",
    "\n",
    "            if tracking_url_type_store != \"file\":\n",
    "                mlflow.keras.log_model(self.model, \"model\", registered_model_name=\"VGG16Model\")\n",
    "            else:\n",
    "                mlflow.keras.log_model(self.model, \"model\")\n",
    "\n",
    "# Step 4: Main execution script\n",
    "try:\n",
    "    config_manager = ConfigurationManager()\n",
    "    eval_config = config_manager.get_evaluation_config()\n",
    "    evaluation = Evaluation(eval_config)\n",
    "    evaluation.evaluation()\n",
    "    evaluation.log_into_mlflow()\n",
    "    print(\"Evaluation and logging completed successfully.\")\n",
    "except Exception as e:\n",
    "    raise e\n"
   ]
  },
  {
   "cell_type": "code",
   "execution_count": null,
   "metadata": {},
   "outputs": [],
   "source": []
  }
 ],
 "metadata": {
  "kernelspec": {
   "display_name": "Python 3",
   "language": "python",
   "name": "python3"
  },
  "language_info": {
   "codemirror_mode": {
    "name": "ipython",
    "version": 3
   },
   "file_extension": ".py",
   "mimetype": "text/x-python",
   "name": "python",
   "nbconvert_exporter": "python",
   "pygments_lexer": "ipython3",
   "version": "3.8.16"
  }
 },
 "nbformat": 4,
 "nbformat_minor": 2
}
